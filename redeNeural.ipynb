{
  "cells": [
    {
      "cell_type": "code",
      "execution_count": 8,
      "metadata": {
        "id": "qetOLISL8qpk"
      },
      "outputs": [],
      "source": [
        "from scipy.fftpack import dct\n",
        "import librosa\n",
        "import numpy as np\n",
        "import pandas as pd"
      ]
    },
    {
      "cell_type": "code",
      "execution_count": 9,
      "metadata": {
        "id": "HJzBeBEK83-U"
      },
      "outputs": [],
      "source": [
        "import os\n",
        "\n",
        "# Leitura de arquivos\n",
        "path_folder  = \"strings/\"\n",
        "all_path_wav_files = []\n",
        "\n",
        "# Salvando todos os caminhos arquivos wav\n",
        "for file in os.listdir(path_folder):\n",
        "    all_path_wav_files.append(os.path.join(path_folder,file))\n",
        "\n"
      ]
    },
    {
      "cell_type": "code",
      "execution_count": 16,
      "metadata": {
        "id": "IUZ56x2R87sC"
      },
      "outputs": [],
      "source": [
        "\n",
        "\n",
        "# Para cada arquivo wav vamos salvar seu QCT e nome da nota associado a ele\n",
        "note_value = []\n",
        "qct_frequencies_per_note = []\n",
        "\n",
        "for path_wav in all_path_wav_files:\n",
        "    # O path está salvo como TinySOL/Strings/Contrabass/ordinario/Cb-ord-A1-ff-3c-N\n",
        "    note = path_wav.split('/')[2].split('-')[2]\n",
        "    y, sr = librosa.load(path_wav, sr=None)\n",
        "    cqt = librosa.cqt(y, sr=sr, n_bins=84, bins_per_octave=12)\n",
        "\n",
        "    # Converter a saída para dB\n",
        "    cqt_db = librosa.amplitude_to_db(np.abs(cqt), ref=np.max)\n",
        "\n",
        "    # Extrair as 12 maiores frequências com base no dB\n",
        "    # Obter as frequências correspondentes às bins do CQT\n",
        "    frequencies = librosa.cqt_frequencies(n_bins=84, fmin=librosa.note_to_hz('C2'))\n",
        "\n",
        "    # Encontrar os índices das 12 maiores frequências\n",
        "    top_indices = np.argsort(np.mean(cqt_db, axis=1))[::-1][:12]\n",
        "\n",
        "    # Frequências e valores de dB correspondentes\n",
        "    top_frequencies = frequencies[top_indices]\n",
        "    top_db_values = np.mean(cqt_db[top_indices], axis=1)\n",
        "    note_value.append(note)\n",
        "    qct_frequencies_per_note.append(top_frequencies)\n"
      ]
    },
    {
      "cell_type": "code",
      "execution_count": 18,
      "metadata": {
        "id": "juwP9tzANvXg"
      },
      "outputs": [],
      "source": [
        "def data_augmetation(qct_frequencies_per_note, note_value):\n",
        "  new_values = qct_frequencies_per_note.copy()\n",
        "  new_notes = note_value.copy()\n",
        "  # Para cada nota, vamos gerar outra variação da nota, porém\n",
        "  # com pelo menos 3 frequencias dela com +2 semitons vamos gerar outra variação da nota\n",
        "  # e -2 semitons vamos gerar outra variação da nota\n",
        "  #As notas variam de acordo com o semiton da forma f = f0 * 2^n/12\n",
        "\n",
        "  for note, dct in zip(note_value, qct_frequencies_per_note):\n",
        "\n",
        "    for i in range(2):\n",
        "\n",
        "      exp = (2+i)/12\n",
        "      dct_1 = [frequency *2**exp for frequency in dct]\n",
        "      dct_2 = [frequency *2 **(-exp) for frequency in dct]\n",
        "      new_values.append(dct_1)\n",
        "      new_notes.append(note)\n",
        "      new_values.append(dct_2)\n",
        "      new_notes.append(note)\n",
        "        \n",
        "    for i in range(3):\n",
        "      exp = (2-i)/12\n",
        "      dct_1 = [frequency *2**exp for frequency in dct]\n",
        "      dct_2 = [frequency *2 **(-exp) for frequency in dct]\n",
        "      new_values.append(dct_1)\n",
        "      new_notes.append(note)\n",
        "      new_values.append(dct_2)\n",
        "      new_notes.append(note)\n",
        "  return new_values, new_notes\n"
      ]
    },
    {
      "cell_type": "code",
      "execution_count": 19,
      "metadata": {
        "colab": {
          "base_uri": "https://localhost:8080/"
        },
        "id": "eSTCx0PFPqe1",
        "outputId": "6d1ed649-a0a3-4553-d801-b3619b6b3b46"
      },
      "outputs": [
        {
          "name": "stdout",
          "output_type": "stream",
          "text": [
            "Tamanho dos dados antes 309 309\n",
            "Tamanho dos dados depois 1545 1545\n"
          ]
        }
      ],
      "source": [
        "print(f'Tamanho dos dados antes {len(qct_frequencies_per_note)} {len(note_value)}')\n",
        "qct_frequencies_per_note, note_value = data_augmetation(qct_frequencies_per_note, note_value)\n",
        "print(f'Tamanho dos dados depois {len(qct_frequencies_per_note)} {len(note_value)}')"
      ]
    },
    {
      "cell_type": "code",
      "execution_count": 20,
      "metadata": {
        "id": "2c2Atz6387lD"
      },
      "outputs": [],
      "source": [
        "X = np.array(qct_frequencies_per_note)\n",
        "y = np.array(note_value)\n"
      ]
    },
    {
      "cell_type": "code",
      "execution_count": 21,
      "metadata": {
        "colab": {
          "base_uri": "https://localhost:8080/"
        },
        "id": "VYc25HRf89Qf",
        "outputId": "21b6dfe2-7169-4075-e6a2-6cc5a6d52a91"
      },
      "outputs": [
        {
          "name": "stdout",
          "output_type": "stream",
          "text": [
            "Classes em y_train: 45\n",
            "Classes em y_test: 44\n",
            "(1236, 12)\n",
            "(1236,)\n",
            "(309, 12)\n",
            "(309,)\n",
            "(1236,)\n",
            "(309,)\n",
            "Forma de y_train_one_hot: (1236, 45)\n",
            "Forma de y_test_one_hot: (309, 45)\n",
            "(1236, 45)\n",
            "(309, 45)\n"
          ]
        }
      ],
      "source": [
        "from sklearn.model_selection import train_test_split\n",
        "from sklearn.preprocessing import LabelEncoder\n",
        "from sklearn.preprocessing import OneHotEncoder\n",
        "X_train, X_test, y_train, y_test = train_test_split(X, y, test_size=0.2, random_state=42)\n",
        "from sklearn.preprocessing import StandardScaler;\n",
        "\n",
        "# Scale the training and test matrices\n",
        "scaler = StandardScaler();\n",
        "scaler.fit(X_train);\n",
        "X_train = scaler.transform(X_train);\n",
        "X_test = scaler.transform(X_test);\n",
        "print(\"Classes em y_train:\", len(np.unique(y_train)))\n",
        "print(\"Classes em y_test:\", len(np.unique(y_test)))\n",
        "print(X_train.shape)\n",
        "print(y_train.shape)\n",
        "print(X_test.shape)\n",
        "print(y_test.shape)\n",
        "\n",
        "label_encoder = LabelEncoder()\n",
        "y_train= label_encoder.fit_transform(y_train)\n",
        "y_test= label_encoder.transform(y_test)\n",
        "print(y_train.shape)\n",
        "print(y_test.shape)\n",
        "\n",
        "one_hot_encoder = OneHotEncoder(sparse_output=False)\n",
        "y_train = one_hot_encoder.fit_transform(y_train.reshape(-1, 1))\n",
        "y_test = one_hot_encoder.transform(y_test.reshape(-1, 1))\n",
        "\n",
        "# Verificar as formas\n",
        "print(\"Forma de y_train_one_hot:\", y_train.shape)  # Deve ser (n_samples_train, n_classes)\n",
        "print(\"Forma de y_test_one_hot:\", y_test.shape)  # Deve ser (n_samples_test, n_classes)\n",
        "print(y_train.shape)\n",
        "print(y_test.shape)"
      ]
    },
    {
      "cell_type": "code",
      "execution_count": 24,
      "metadata": {
        "colab": {
          "base_uri": "https://localhost:8080/",
          "height": 210
        },
        "id": "aMmePrej9CPh",
        "outputId": "a3c01153-f6c1-4ca9-dc3e-a66f8f15f84d"
      },
      "outputs": [
        {
          "data": {
            "text/html": [
              "<pre style=\"white-space:pre;overflow-x:auto;line-height:normal;font-family:Menlo,'DejaVu Sans Mono',consolas,'Courier New',monospace\"><span style=\"font-weight: bold\">Model: \"sequential\"</span>\n",
              "</pre>\n"
            ],
            "text/plain": [
              "\u001b[1mModel: \"sequential\"\u001b[0m\n"
            ]
          },
          "metadata": {},
          "output_type": "display_data"
        },
        {
          "data": {
            "text/html": [
              "<pre style=\"white-space:pre;overflow-x:auto;line-height:normal;font-family:Menlo,'DejaVu Sans Mono',consolas,'Courier New',monospace\">┏━━━━━━━━━━━━━━━━━━━━━━━━━━━━━━━━━━━━━━┳━━━━━━━━━━━━━━━━━━━━━━━━━━━━━┳━━━━━━━━━━━━━━━━━┓\n",
              "┃<span style=\"font-weight: bold\"> Layer (type)                         </span>┃<span style=\"font-weight: bold\"> Output Shape                </span>┃<span style=\"font-weight: bold\">         Param # </span>┃\n",
              "┡━━━━━━━━━━━━━━━━━━━━━━━━━━━━━━━━━━━━━━╇━━━━━━━━━━━━━━━━━━━━━━━━━━━━━╇━━━━━━━━━━━━━━━━━┩\n",
              "│ hidden (<span style=\"color: #0087ff; text-decoration-color: #0087ff\">Dense</span>)                       │ (<span style=\"color: #00d7ff; text-decoration-color: #00d7ff\">None</span>, <span style=\"color: #00af00; text-decoration-color: #00af00\">256</span>)                 │           <span style=\"color: #00af00; text-decoration-color: #00af00\">3,328</span> │\n",
              "├──────────────────────────────────────┼─────────────────────────────┼─────────────────┤\n",
              "│ output (<span style=\"color: #0087ff; text-decoration-color: #0087ff\">Dense</span>)                       │ (<span style=\"color: #00d7ff; text-decoration-color: #00d7ff\">None</span>, <span style=\"color: #00af00; text-decoration-color: #00af00\">45</span>)                  │          <span style=\"color: #00af00; text-decoration-color: #00af00\">11,565</span> │\n",
              "└──────────────────────────────────────┴─────────────────────────────┴─────────────────┘\n",
              "</pre>\n"
            ],
            "text/plain": [
              "┏━━━━━━━━━━━━━━━━━━━━━━━━━━━━━━━━━━━━━━┳━━━━━━━━━━━━━━━━━━━━━━━━━━━━━┳━━━━━━━━━━━━━━━━━┓\n",
              "┃\u001b[1m \u001b[0m\u001b[1mLayer (type)                        \u001b[0m\u001b[1m \u001b[0m┃\u001b[1m \u001b[0m\u001b[1mOutput Shape               \u001b[0m\u001b[1m \u001b[0m┃\u001b[1m \u001b[0m\u001b[1m        Param #\u001b[0m\u001b[1m \u001b[0m┃\n",
              "┡━━━━━━━━━━━━━━━━━━━━━━━━━━━━━━━━━━━━━━╇━━━━━━━━━━━━━━━━━━━━━━━━━━━━━╇━━━━━━━━━━━━━━━━━┩\n",
              "│ hidden (\u001b[38;5;33mDense\u001b[0m)                       │ (\u001b[38;5;45mNone\u001b[0m, \u001b[38;5;34m256\u001b[0m)                 │           \u001b[38;5;34m3,328\u001b[0m │\n",
              "├──────────────────────────────────────┼─────────────────────────────┼─────────────────┤\n",
              "│ output (\u001b[38;5;33mDense\u001b[0m)                       │ (\u001b[38;5;45mNone\u001b[0m, \u001b[38;5;34m45\u001b[0m)                  │          \u001b[38;5;34m11,565\u001b[0m │\n",
              "└──────────────────────────────────────┴─────────────────────────────┴─────────────────┘\n"
            ]
          },
          "metadata": {},
          "output_type": "display_data"
        },
        {
          "data": {
            "text/html": [
              "<pre style=\"white-space:pre;overflow-x:auto;line-height:normal;font-family:Menlo,'DejaVu Sans Mono',consolas,'Courier New',monospace\"><span style=\"font-weight: bold\"> Total params: </span><span style=\"color: #00af00; text-decoration-color: #00af00\">14,893</span> (58.18 KB)\n",
              "</pre>\n"
            ],
            "text/plain": [
              "\u001b[1m Total params: \u001b[0m\u001b[38;5;34m14,893\u001b[0m (58.18 KB)\n"
            ]
          },
          "metadata": {},
          "output_type": "display_data"
        },
        {
          "data": {
            "text/html": [
              "<pre style=\"white-space:pre;overflow-x:auto;line-height:normal;font-family:Menlo,'DejaVu Sans Mono',consolas,'Courier New',monospace\"><span style=\"font-weight: bold\"> Trainable params: </span><span style=\"color: #00af00; text-decoration-color: #00af00\">14,893</span> (58.18 KB)\n",
              "</pre>\n"
            ],
            "text/plain": [
              "\u001b[1m Trainable params: \u001b[0m\u001b[38;5;34m14,893\u001b[0m (58.18 KB)\n"
            ]
          },
          "metadata": {},
          "output_type": "display_data"
        },
        {
          "data": {
            "text/html": [
              "<pre style=\"white-space:pre;overflow-x:auto;line-height:normal;font-family:Menlo,'DejaVu Sans Mono',consolas,'Courier New',monospace\"><span style=\"font-weight: bold\"> Non-trainable params: </span><span style=\"color: #00af00; text-decoration-color: #00af00\">0</span> (0.00 B)\n",
              "</pre>\n"
            ],
            "text/plain": [
              "\u001b[1m Non-trainable params: \u001b[0m\u001b[38;5;34m0\u001b[0m (0.00 B)\n"
            ]
          },
          "metadata": {},
          "output_type": "display_data"
        },
        {
          "name": "stdout",
          "output_type": "stream",
          "text": [
            "None\n"
          ]
        }
      ],
      "source": [
        "import tensorflow as tf;\n",
        "from tensorflow.keras.models import Model, Sequential;\n",
        "from tensorflow.keras.layers import Dense, Activation;\n",
        "\n",
        "import tensorflow.keras.backend as K\n",
        "K.clear_session();\n",
        "\n",
        "def createModel():\n",
        "  model = Sequential();\n",
        "\n",
        "  model.add(Dense(units = 256,\n",
        "                  input_shape = (12,),\n",
        "                  activation = 'sigmoid',\n",
        "                  name = 'hidden'));\n",
        "\n",
        "  model.add(Dense(units = 45,\n",
        "                  activation = 'softmax',\n",
        "                  name = 'output'));\n",
        "  return model;\n",
        "\n",
        "model = createModel();\n",
        "\n",
        "from tensorflow.keras import optimizers;\n",
        "opt = optimizers.Adam(learning_rate = 0.001);\n",
        "\n",
        "print(model.summary());\n",
        "\n",
        "model.compile(optimizer = opt,\n",
        "              loss = 'categorical_crossentropy',\n",
        "              metrics = ['accuracy']);"
      ]
    },
    {
      "cell_type": "code",
      "execution_count": 25,
      "metadata": {
        "colab": {
          "base_uri": "https://localhost:8080/"
        },
        "id": "QofeI_GE9DuX",
        "outputId": "54577e5e-7c3b-4797-fc4a-f270dfa9cc18"
      },
      "outputs": [
        {
          "name": "stdout",
          "output_type": "stream",
          "text": [
            "Epoch 1/100\n",
            "\u001b[1m1236/1236\u001b[0m \u001b[32m━━━━━━━━━━━━━━━━━━━━\u001b[0m\u001b[37m\u001b[0m \u001b[1m7s\u001b[0m 4ms/step - accuracy: 0.0519 - loss: 3.8348 - val_accuracy: 0.0777 - val_loss: 3.2915\n",
            "Epoch 2/100\n",
            "\u001b[1m1236/1236\u001b[0m \u001b[32m━━━━━━━━━━━━━━━━━━━━\u001b[0m\u001b[37m\u001b[0m \u001b[1m2s\u001b[0m 2ms/step - accuracy: 0.1202 - loss: 3.0870 - val_accuracy: 0.1262 - val_loss: 3.0248\n",
            "Epoch 3/100\n",
            "\u001b[1m1236/1236\u001b[0m \u001b[32m━━━━━━━━━━━━━━━━━━━━\u001b[0m\u001b[37m\u001b[0m \u001b[1m3s\u001b[0m 2ms/step - accuracy: 0.1893 - loss: 2.7824 - val_accuracy: 0.1294 - val_loss: 2.7861\n",
            "Epoch 4/100\n",
            "\u001b[1m1236/1236\u001b[0m \u001b[32m━━━━━━━━━━━━━━━━━━━━\u001b[0m\u001b[37m\u001b[0m \u001b[1m5s\u001b[0m 2ms/step - accuracy: 0.2357 - loss: 2.5107 - val_accuracy: 0.2589 - val_loss: 2.5534\n",
            "Epoch 5/100\n",
            "\u001b[1m1236/1236\u001b[0m \u001b[32m━━━━━━━━━━━━━━━━━━━━\u001b[0m\u001b[37m\u001b[0m \u001b[1m3s\u001b[0m 2ms/step - accuracy: 0.2734 - loss: 2.3396 - val_accuracy: 0.2654 - val_loss: 2.4043\n",
            "Epoch 6/100\n",
            "\u001b[1m1236/1236\u001b[0m \u001b[32m━━━━━━━━━━━━━━━━━━━━\u001b[0m\u001b[37m\u001b[0m \u001b[1m6s\u001b[0m 3ms/step - accuracy: 0.2963 - loss: 2.2019 - val_accuracy: 0.3010 - val_loss: 2.2647\n",
            "Epoch 7/100\n",
            "\u001b[1m1236/1236\u001b[0m \u001b[32m━━━━━━━━━━━━━━━━━━━━\u001b[0m\u001b[37m\u001b[0m \u001b[1m4s\u001b[0m 2ms/step - accuracy: 0.3583 - loss: 2.0328 - val_accuracy: 0.2330 - val_loss: 2.2063\n",
            "Epoch 8/100\n",
            "\u001b[1m1236/1236\u001b[0m \u001b[32m━━━━━━━━━━━━━━━━━━━━\u001b[0m\u001b[37m\u001b[0m \u001b[1m3s\u001b[0m 2ms/step - accuracy: 0.3773 - loss: 1.9567 - val_accuracy: 0.2945 - val_loss: 2.1749\n",
            "Epoch 9/100\n",
            "\u001b[1m1236/1236\u001b[0m \u001b[32m━━━━━━━━━━━━━━━━━━━━\u001b[0m\u001b[37m\u001b[0m \u001b[1m5s\u001b[0m 2ms/step - accuracy: 0.3789 - loss: 1.8537 - val_accuracy: 0.3981 - val_loss: 2.0091\n",
            "Epoch 10/100\n",
            "\u001b[1m1236/1236\u001b[0m \u001b[32m━━━━━━━━━━━━━━━━━━━━\u001b[0m\u001b[37m\u001b[0m \u001b[1m5s\u001b[0m 2ms/step - accuracy: 0.4521 - loss: 1.7187 - val_accuracy: 0.4045 - val_loss: 1.9081\n",
            "Epoch 11/100\n",
            "\u001b[1m1236/1236\u001b[0m \u001b[32m━━━━━━━━━━━━━━━━━━━━\u001b[0m\u001b[37m\u001b[0m \u001b[1m3s\u001b[0m 2ms/step - accuracy: 0.4644 - loss: 1.6689 - val_accuracy: 0.3883 - val_loss: 1.9118\n",
            "Epoch 12/100\n",
            "\u001b[1m1236/1236\u001b[0m \u001b[32m━━━━━━━━━━━━━━━━━━━━\u001b[0m\u001b[37m\u001b[0m \u001b[1m6s\u001b[0m 3ms/step - accuracy: 0.4442 - loss: 1.6529 - val_accuracy: 0.4013 - val_loss: 1.7880\n",
            "Epoch 13/100\n",
            "\u001b[1m1236/1236\u001b[0m \u001b[32m━━━━━━━━━━━━━━━━━━━━\u001b[0m\u001b[37m\u001b[0m \u001b[1m5s\u001b[0m 2ms/step - accuracy: 0.5027 - loss: 1.5355 - val_accuracy: 0.4757 - val_loss: 1.7856\n",
            "Epoch 14/100\n",
            "\u001b[1m1236/1236\u001b[0m \u001b[32m━━━━━━━━━━━━━━━━━━━━\u001b[0m\u001b[37m\u001b[0m \u001b[1m5s\u001b[0m 2ms/step - accuracy: 0.5042 - loss: 1.5002 - val_accuracy: 0.4466 - val_loss: 1.7404\n",
            "Epoch 15/100\n",
            "\u001b[1m1236/1236\u001b[0m \u001b[32m━━━━━━━━━━━━━━━━━━━━\u001b[0m\u001b[37m\u001b[0m \u001b[1m3s\u001b[0m 3ms/step - accuracy: 0.5216 - loss: 1.4667 - val_accuracy: 0.4822 - val_loss: 1.6588\n",
            "Epoch 16/100\n",
            "\u001b[1m1236/1236\u001b[0m \u001b[32m━━━━━━━━━━━━━━━━━━━━\u001b[0m\u001b[37m\u001b[0m \u001b[1m4s\u001b[0m 3ms/step - accuracy: 0.5369 - loss: 1.4089 - val_accuracy: 0.4822 - val_loss: 1.6019\n",
            "Epoch 17/100\n",
            "\u001b[1m1236/1236\u001b[0m \u001b[32m━━━━━━━━━━━━━━━━━━━━\u001b[0m\u001b[37m\u001b[0m \u001b[1m4s\u001b[0m 2ms/step - accuracy: 0.5782 - loss: 1.3330 - val_accuracy: 0.5146 - val_loss: 1.5298\n",
            "Epoch 18/100\n",
            "\u001b[1m1236/1236\u001b[0m \u001b[32m━━━━━━━━━━━━━━━━━━━━\u001b[0m\u001b[37m\u001b[0m \u001b[1m5s\u001b[0m 2ms/step - accuracy: 0.5634 - loss: 1.3436 - val_accuracy: 0.5210 - val_loss: 1.4060\n",
            "Epoch 19/100\n",
            "\u001b[1m1236/1236\u001b[0m \u001b[32m━━━━━━━━━━━━━━━━━━━━\u001b[0m\u001b[37m\u001b[0m \u001b[1m4s\u001b[0m 3ms/step - accuracy: 0.5587 - loss: 1.2946 - val_accuracy: 0.5275 - val_loss: 1.4213\n",
            "Epoch 20/100\n",
            "\u001b[1m1236/1236\u001b[0m \u001b[32m━━━━━━━━━━━━━━━━━━━━\u001b[0m\u001b[37m\u001b[0m \u001b[1m4s\u001b[0m 2ms/step - accuracy: 0.5902 - loss: 1.2575 - val_accuracy: 0.5275 - val_loss: 1.4036\n",
            "Epoch 21/100\n",
            "\u001b[1m1236/1236\u001b[0m \u001b[32m━━━━━━━━━━━━━━━━━━━━\u001b[0m\u001b[37m\u001b[0m \u001b[1m3s\u001b[0m 2ms/step - accuracy: 0.6102 - loss: 1.1728 - val_accuracy: 0.5534 - val_loss: 1.3977\n",
            "Epoch 22/100\n",
            "\u001b[1m1236/1236\u001b[0m \u001b[32m━━━━━━━━━━━━━━━━━━━━\u001b[0m\u001b[37m\u001b[0m \u001b[1m5s\u001b[0m 2ms/step - accuracy: 0.6491 - loss: 1.1120 - val_accuracy: 0.5275 - val_loss: 1.3798\n",
            "Epoch 23/100\n",
            "\u001b[1m1236/1236\u001b[0m \u001b[32m━━━━━━━━━━━━━━━━━━━━\u001b[0m\u001b[37m\u001b[0m \u001b[1m5s\u001b[0m 2ms/step - accuracy: 0.6396 - loss: 1.1043 - val_accuracy: 0.5663 - val_loss: 1.3180\n",
            "Epoch 24/100\n",
            "\u001b[1m1236/1236\u001b[0m \u001b[32m━━━━━━━━━━━━━━━━━━━━\u001b[0m\u001b[37m\u001b[0m \u001b[1m5s\u001b[0m 2ms/step - accuracy: 0.6086 - loss: 1.1675 - val_accuracy: 0.5825 - val_loss: 1.2234\n",
            "Epoch 25/100\n",
            "\u001b[1m1236/1236\u001b[0m \u001b[32m━━━━━━━━━━━━━━━━━━━━\u001b[0m\u001b[37m\u001b[0m \u001b[1m6s\u001b[0m 3ms/step - accuracy: 0.6224 - loss: 1.0997 - val_accuracy: 0.6084 - val_loss: 1.1621\n",
            "Epoch 26/100\n",
            "\u001b[1m1236/1236\u001b[0m \u001b[32m━━━━━━━━━━━━━━━━━━━━\u001b[0m\u001b[37m\u001b[0m \u001b[1m3s\u001b[0m 2ms/step - accuracy: 0.6719 - loss: 1.0002 - val_accuracy: 0.5955 - val_loss: 1.1627\n",
            "Epoch 27/100\n",
            "\u001b[1m1236/1236\u001b[0m \u001b[32m━━━━━━━━━━━━━━━━━━━━\u001b[0m\u001b[37m\u001b[0m \u001b[1m5s\u001b[0m 2ms/step - accuracy: 0.6427 - loss: 1.0778 - val_accuracy: 0.6084 - val_loss: 1.1460\n",
            "Epoch 28/100\n",
            "\u001b[1m1236/1236\u001b[0m \u001b[32m━━━━━━━━━━━━━━━━━━━━\u001b[0m\u001b[37m\u001b[0m \u001b[1m3s\u001b[0m 2ms/step - accuracy: 0.6782 - loss: 0.9730 - val_accuracy: 0.6214 - val_loss: 1.1155\n",
            "Epoch 29/100\n",
            "\u001b[1m1236/1236\u001b[0m \u001b[32m━━━━━━━━━━━━━━━━━━━━\u001b[0m\u001b[37m\u001b[0m \u001b[1m5s\u001b[0m 2ms/step - accuracy: 0.6779 - loss: 0.9658 - val_accuracy: 0.6278 - val_loss: 1.1057\n",
            "Epoch 30/100\n",
            "\u001b[1m1236/1236\u001b[0m \u001b[32m━━━━━━━━━━━━━━━━━━━━\u001b[0m\u001b[37m\u001b[0m \u001b[1m2s\u001b[0m 2ms/step - accuracy: 0.6846 - loss: 0.9499 - val_accuracy: 0.5955 - val_loss: 1.1155\n",
            "Epoch 31/100\n",
            "\u001b[1m1236/1236\u001b[0m \u001b[32m━━━━━━━━━━━━━━━━━━━━\u001b[0m\u001b[37m\u001b[0m \u001b[1m3s\u001b[0m 2ms/step - accuracy: 0.6720 - loss: 0.9639 - val_accuracy: 0.6667 - val_loss: 0.9790\n",
            "Epoch 32/100\n",
            "\u001b[1m1236/1236\u001b[0m \u001b[32m━━━━━━━━━━━━━━━━━━━━\u001b[0m\u001b[37m\u001b[0m \u001b[1m3s\u001b[0m 2ms/step - accuracy: 0.6771 - loss: 0.9155 - val_accuracy: 0.6926 - val_loss: 0.9633\n",
            "Epoch 33/100\n",
            "\u001b[1m1236/1236\u001b[0m \u001b[32m━━━━━━━━━━━━━━━━━━━━\u001b[0m\u001b[37m\u001b[0m \u001b[1m4s\u001b[0m 3ms/step - accuracy: 0.6829 - loss: 0.9225 - val_accuracy: 0.6440 - val_loss: 1.0232\n",
            "Epoch 34/100\n",
            "\u001b[1m1236/1236\u001b[0m \u001b[32m━━━━━━━━━━━━━━━━━━━━\u001b[0m\u001b[37m\u001b[0m \u001b[1m3s\u001b[0m 2ms/step - accuracy: 0.6902 - loss: 0.8987 - val_accuracy: 0.6699 - val_loss: 0.9372\n",
            "Epoch 35/100\n",
            "\u001b[1m1236/1236\u001b[0m \u001b[32m━━━━━━━━━━━━━━━━━━━━\u001b[0m\u001b[37m\u001b[0m \u001b[1m2s\u001b[0m 2ms/step - accuracy: 0.7214 - loss: 0.8399 - val_accuracy: 0.6246 - val_loss: 0.9933\n",
            "Epoch 36/100\n",
            "\u001b[1m1236/1236\u001b[0m \u001b[32m━━━━━━━━━━━━━━━━━━━━\u001b[0m\u001b[37m\u001b[0m \u001b[1m3s\u001b[0m 2ms/step - accuracy: 0.7274 - loss: 0.8103 - val_accuracy: 0.6926 - val_loss: 0.8809\n",
            "Epoch 37/100\n",
            "\u001b[1m1236/1236\u001b[0m \u001b[32m━━━━━━━━━━━━━━━━━━━━\u001b[0m\u001b[37m\u001b[0m \u001b[1m3s\u001b[0m 2ms/step - accuracy: 0.7152 - loss: 0.8381 - val_accuracy: 0.6634 - val_loss: 0.9601\n",
            "Epoch 38/100\n",
            "\u001b[1m1236/1236\u001b[0m \u001b[32m━━━━━━━━━━━━━━━━━━━━\u001b[0m\u001b[37m\u001b[0m \u001b[1m5s\u001b[0m 2ms/step - accuracy: 0.7174 - loss: 0.8443 - val_accuracy: 0.6570 - val_loss: 0.9207\n",
            "Epoch 39/100\n",
            "\u001b[1m1236/1236\u001b[0m \u001b[32m━━━━━━━━━━━━━━━━━━━━\u001b[0m\u001b[37m\u001b[0m \u001b[1m3s\u001b[0m 2ms/step - accuracy: 0.7305 - loss: 0.7938 - val_accuracy: 0.6861 - val_loss: 0.9079\n",
            "Epoch 40/100\n",
            "\u001b[1m1236/1236\u001b[0m \u001b[32m━━━━━━━━━━━━━━━━━━━━\u001b[0m\u001b[37m\u001b[0m \u001b[1m5s\u001b[0m 2ms/step - accuracy: 0.7381 - loss: 0.8056 - val_accuracy: 0.7184 - val_loss: 0.8524\n",
            "Epoch 41/100\n",
            "\u001b[1m1236/1236\u001b[0m \u001b[32m━━━━━━━━━━━━━━━━━━━━\u001b[0m\u001b[37m\u001b[0m \u001b[1m5s\u001b[0m 2ms/step - accuracy: 0.7550 - loss: 0.7288 - val_accuracy: 0.7411 - val_loss: 0.7435\n",
            "Epoch 42/100\n",
            "\u001b[1m1236/1236\u001b[0m \u001b[32m━━━━━━━━━━━━━━━━━━━━\u001b[0m\u001b[37m\u001b[0m \u001b[1m3s\u001b[0m 2ms/step - accuracy: 0.7167 - loss: 0.8175 - val_accuracy: 0.6926 - val_loss: 0.8146\n",
            "Epoch 43/100\n",
            "\u001b[1m1236/1236\u001b[0m \u001b[32m━━━━━━━━━━━━━━━━━━━━\u001b[0m\u001b[37m\u001b[0m \u001b[1m3s\u001b[0m 2ms/step - accuracy: 0.7588 - loss: 0.7006 - val_accuracy: 0.7249 - val_loss: 0.7467\n",
            "Epoch 44/100\n",
            "\u001b[1m1236/1236\u001b[0m \u001b[32m━━━━━━━━━━━━━━━━━━━━\u001b[0m\u001b[37m\u001b[0m \u001b[1m7s\u001b[0m 3ms/step - accuracy: 0.7507 - loss: 0.7154 - val_accuracy: 0.7443 - val_loss: 0.7776\n",
            "Epoch 45/100\n",
            "\u001b[1m1236/1236\u001b[0m \u001b[32m━━━━━━━━━━━━━━━━━━━━\u001b[0m\u001b[37m\u001b[0m \u001b[1m4s\u001b[0m 2ms/step - accuracy: 0.7720 - loss: 0.6741 - val_accuracy: 0.7476 - val_loss: 0.7604\n",
            "Epoch 46/100\n",
            "\u001b[1m1236/1236\u001b[0m \u001b[32m━━━━━━━━━━━━━━━━━━━━\u001b[0m\u001b[37m\u001b[0m \u001b[1m5s\u001b[0m 2ms/step - accuracy: 0.7673 - loss: 0.6871 - val_accuracy: 0.7735 - val_loss: 0.7000\n",
            "Epoch 47/100\n",
            "\u001b[1m1236/1236\u001b[0m \u001b[32m━━━━━━━━━━━━━━━━━━━━\u001b[0m\u001b[37m\u001b[0m \u001b[1m11s\u001b[0m 8ms/step - accuracy: 0.7894 - loss: 0.6251 - val_accuracy: 0.7508 - val_loss: 0.7188\n",
            "Epoch 48/100\n",
            "\u001b[1m1236/1236\u001b[0m \u001b[32m━━━━━━━━━━━━━━━━━━━━\u001b[0m\u001b[37m\u001b[0m \u001b[1m14s\u001b[0m 3ms/step - accuracy: 0.7942 - loss: 0.6105 - val_accuracy: 0.7411 - val_loss: 0.7227\n",
            "Epoch 49/100\n",
            "\u001b[1m1236/1236\u001b[0m \u001b[32m━━━━━━━━━━━━━━━━━━━━\u001b[0m\u001b[37m\u001b[0m \u001b[1m4s\u001b[0m 2ms/step - accuracy: 0.7929 - loss: 0.6063 - val_accuracy: 0.7929 - val_loss: 0.6482\n",
            "Epoch 50/100\n",
            "\u001b[1m1236/1236\u001b[0m \u001b[32m━━━━━━━━━━━━━━━━━━━━\u001b[0m\u001b[37m\u001b[0m \u001b[1m5s\u001b[0m 2ms/step - accuracy: 0.7979 - loss: 0.6137 - val_accuracy: 0.7799 - val_loss: 0.6171\n",
            "Epoch 51/100\n",
            "\u001b[1m1236/1236\u001b[0m \u001b[32m━━━━━━━━━━━━━━━━━━━━\u001b[0m\u001b[37m\u001b[0m \u001b[1m5s\u001b[0m 4ms/step - accuracy: 0.7790 - loss: 0.6331 - val_accuracy: 0.7638 - val_loss: 0.6944\n",
            "Epoch 52/100\n",
            "\u001b[1m1236/1236\u001b[0m \u001b[32m━━━━━━━━━━━━━━━━━━━━\u001b[0m\u001b[37m\u001b[0m \u001b[1m3s\u001b[0m 2ms/step - accuracy: 0.7736 - loss: 0.6011 - val_accuracy: 0.7767 - val_loss: 0.6207\n",
            "Epoch 53/100\n",
            "\u001b[1m1236/1236\u001b[0m \u001b[32m━━━━━━━━━━━━━━━━━━━━\u001b[0m\u001b[37m\u001b[0m \u001b[1m3s\u001b[0m 2ms/step - accuracy: 0.8071 - loss: 0.5931 - val_accuracy: 0.7735 - val_loss: 0.6554\n",
            "Epoch 54/100\n",
            "\u001b[1m1236/1236\u001b[0m \u001b[32m━━━━━━━━━━━━━━━━━━━━\u001b[0m\u001b[37m\u001b[0m \u001b[1m3s\u001b[0m 2ms/step - accuracy: 0.8099 - loss: 0.5733 - val_accuracy: 0.7961 - val_loss: 0.5839\n",
            "Epoch 55/100\n",
            "\u001b[1m1236/1236\u001b[0m \u001b[32m━━━━━━━━━━━━━━━━━━━━\u001b[0m\u001b[37m\u001b[0m \u001b[1m6s\u001b[0m 3ms/step - accuracy: 0.8023 - loss: 0.6259 - val_accuracy: 0.7832 - val_loss: 0.5901\n",
            "Epoch 56/100\n",
            "\u001b[1m1236/1236\u001b[0m \u001b[32m━━━━━━━━━━━━━━━━━━━━\u001b[0m\u001b[37m\u001b[0m \u001b[1m4s\u001b[0m 2ms/step - accuracy: 0.8232 - loss: 0.5051 - val_accuracy: 0.7864 - val_loss: 0.5684\n",
            "Epoch 57/100\n",
            "\u001b[1m1236/1236\u001b[0m \u001b[32m━━━━━━━━━━━━━━━━━━━━\u001b[0m\u001b[37m\u001b[0m \u001b[1m5s\u001b[0m 2ms/step - accuracy: 0.8324 - loss: 0.5272 - val_accuracy: 0.8188 - val_loss: 0.5448\n",
            "Epoch 58/100\n",
            "\u001b[1m1236/1236\u001b[0m \u001b[32m━━━━━━━━━━━━━━━━━━━━\u001b[0m\u001b[37m\u001b[0m \u001b[1m5s\u001b[0m 2ms/step - accuracy: 0.8013 - loss: 0.5527 - val_accuracy: 0.8123 - val_loss: 0.5363\n",
            "Epoch 59/100\n",
            "\u001b[1m1236/1236\u001b[0m \u001b[32m━━━━━━━━━━━━━━━━━━━━\u001b[0m\u001b[37m\u001b[0m \u001b[1m3s\u001b[0m 2ms/step - accuracy: 0.8125 - loss: 0.5173 - val_accuracy: 0.7929 - val_loss: 0.5395\n",
            "Epoch 60/100\n",
            "\u001b[1m1236/1236\u001b[0m \u001b[32m━━━━━━━━━━━━━━━━━━━━\u001b[0m\u001b[37m\u001b[0m \u001b[1m3s\u001b[0m 2ms/step - accuracy: 0.8494 - loss: 0.4645 - val_accuracy: 0.7961 - val_loss: 0.5356\n",
            "Epoch 61/100\n",
            "\u001b[1m1236/1236\u001b[0m \u001b[32m━━━━━━━━━━━━━━━━━━━━\u001b[0m\u001b[37m\u001b[0m \u001b[1m3s\u001b[0m 2ms/step - accuracy: 0.8417 - loss: 0.4471 - val_accuracy: 0.8058 - val_loss: 0.5204\n",
            "Epoch 62/100\n",
            "\u001b[1m1236/1236\u001b[0m \u001b[32m━━━━━━━━━━━━━━━━━━━━\u001b[0m\u001b[37m\u001b[0m \u001b[1m4s\u001b[0m 3ms/step - accuracy: 0.8386 - loss: 0.4703 - val_accuracy: 0.8091 - val_loss: 0.4909\n",
            "Epoch 63/100\n",
            "\u001b[1m1236/1236\u001b[0m \u001b[32m━━━━━━━━━━━━━━━━━━━━\u001b[0m\u001b[37m\u001b[0m \u001b[1m4s\u001b[0m 2ms/step - accuracy: 0.8378 - loss: 0.4686 - val_accuracy: 0.7896 - val_loss: 0.5872\n",
            "Epoch 64/100\n",
            "\u001b[1m1236/1236\u001b[0m \u001b[32m━━━━━━━━━━━━━━━━━━━━\u001b[0m\u001b[37m\u001b[0m \u001b[1m3s\u001b[0m 2ms/step - accuracy: 0.8514 - loss: 0.4521 - val_accuracy: 0.8091 - val_loss: 0.5021\n",
            "Epoch 65/100\n",
            "\u001b[1m1236/1236\u001b[0m \u001b[32m━━━━━━━━━━━━━━━━━━━━\u001b[0m\u001b[37m\u001b[0m \u001b[1m6s\u001b[0m 3ms/step - accuracy: 0.8337 - loss: 0.4741 - val_accuracy: 0.8252 - val_loss: 0.4867\n",
            "Epoch 66/100\n",
            "\u001b[1m1236/1236\u001b[0m \u001b[32m━━━━━━━━━━━━━━━━━━━━\u001b[0m\u001b[37m\u001b[0m \u001b[1m4s\u001b[0m 3ms/step - accuracy: 0.8310 - loss: 0.4644 - val_accuracy: 0.8220 - val_loss: 0.4803\n",
            "Epoch 67/100\n",
            "\u001b[1m1236/1236\u001b[0m \u001b[32m━━━━━━━━━━━━━━━━━━━━\u001b[0m\u001b[37m\u001b[0m \u001b[1m4s\u001b[0m 2ms/step - accuracy: 0.8515 - loss: 0.4159 - val_accuracy: 0.8123 - val_loss: 0.4698\n",
            "Epoch 68/100\n",
            "\u001b[1m1236/1236\u001b[0m \u001b[32m━━━━━━━━━━━━━━━━━━━━\u001b[0m\u001b[37m\u001b[0m \u001b[1m6s\u001b[0m 3ms/step - accuracy: 0.8539 - loss: 0.4501 - val_accuracy: 0.8414 - val_loss: 0.4637\n",
            "Epoch 69/100\n",
            "\u001b[1m1236/1236\u001b[0m \u001b[32m━━━━━━━━━━━━━━━━━━━━\u001b[0m\u001b[37m\u001b[0m \u001b[1m3s\u001b[0m 2ms/step - accuracy: 0.8618 - loss: 0.4202 - val_accuracy: 0.8447 - val_loss: 0.4401\n",
            "Epoch 70/100\n",
            "\u001b[1m1236/1236\u001b[0m \u001b[32m━━━━━━━━━━━━━━━━━━━━\u001b[0m\u001b[37m\u001b[0m \u001b[1m3s\u001b[0m 2ms/step - accuracy: 0.8680 - loss: 0.4063 - val_accuracy: 0.8091 - val_loss: 0.4495\n",
            "Epoch 71/100\n",
            "\u001b[1m1236/1236\u001b[0m \u001b[32m━━━━━━━━━━━━━━━━━━━━\u001b[0m\u001b[37m\u001b[0m \u001b[1m3s\u001b[0m 2ms/step - accuracy: 0.8879 - loss: 0.3628 - val_accuracy: 0.8220 - val_loss: 0.4829\n",
            "Epoch 72/100\n",
            "\u001b[1m1236/1236\u001b[0m \u001b[32m━━━━━━━━━━━━━━━━━━━━\u001b[0m\u001b[37m\u001b[0m \u001b[1m4s\u001b[0m 3ms/step - accuracy: 0.8662 - loss: 0.3983 - val_accuracy: 0.8414 - val_loss: 0.4673\n",
            "Epoch 73/100\n",
            "\u001b[1m1236/1236\u001b[0m \u001b[32m━━━━━━━━━━━━━━━━━━━━\u001b[0m\u001b[37m\u001b[0m \u001b[1m4s\u001b[0m 2ms/step - accuracy: 0.8704 - loss: 0.3782 - val_accuracy: 0.8350 - val_loss: 0.4721\n",
            "Epoch 74/100\n",
            "\u001b[1m1236/1236\u001b[0m \u001b[32m━━━━━━━━━━━━━━━━━━━━\u001b[0m\u001b[37m\u001b[0m \u001b[1m3s\u001b[0m 2ms/step - accuracy: 0.8935 - loss: 0.3437 - val_accuracy: 0.8544 - val_loss: 0.4165\n",
            "Epoch 75/100\n",
            "\u001b[1m1236/1236\u001b[0m \u001b[32m━━━━━━━━━━━━━━━━━━━━\u001b[0m\u001b[37m\u001b[0m \u001b[1m3s\u001b[0m 2ms/step - accuracy: 0.8922 - loss: 0.3468 - val_accuracy: 0.8382 - val_loss: 0.3968\n",
            "Epoch 76/100\n",
            "\u001b[1m1236/1236\u001b[0m \u001b[32m━━━━━━━━━━━━━━━━━━━━\u001b[0m\u001b[37m\u001b[0m \u001b[1m3s\u001b[0m 3ms/step - accuracy: 0.8728 - loss: 0.3622 - val_accuracy: 0.8673 - val_loss: 0.4147\n",
            "Epoch 77/100\n",
            "\u001b[1m1236/1236\u001b[0m \u001b[32m━━━━━━━━━━━━━━━━━━━━\u001b[0m\u001b[37m\u001b[0m \u001b[1m5s\u001b[0m 2ms/step - accuracy: 0.8747 - loss: 0.3490 - val_accuracy: 0.8608 - val_loss: 0.4034\n",
            "Epoch 78/100\n",
            "\u001b[1m1236/1236\u001b[0m \u001b[32m━━━━━━━━━━━━━━━━━━━━\u001b[0m\u001b[37m\u001b[0m \u001b[1m3s\u001b[0m 2ms/step - accuracy: 0.8830 - loss: 0.3443 - val_accuracy: 0.8641 - val_loss: 0.3774\n",
            "Epoch 79/100\n",
            "\u001b[1m1236/1236\u001b[0m \u001b[32m━━━━━━━━━━━━━━━━━━━━\u001b[0m\u001b[37m\u001b[0m \u001b[1m3s\u001b[0m 2ms/step - accuracy: 0.8891 - loss: 0.3449 - val_accuracy: 0.8479 - val_loss: 0.3955\n",
            "Epoch 80/100\n",
            "\u001b[1m1236/1236\u001b[0m \u001b[32m━━━━━━━━━━━━━━━━━━━━\u001b[0m\u001b[37m\u001b[0m \u001b[1m6s\u001b[0m 3ms/step - accuracy: 0.8924 - loss: 0.3213 - val_accuracy: 0.8641 - val_loss: 0.3991\n",
            "Epoch 81/100\n",
            "\u001b[1m1236/1236\u001b[0m \u001b[32m━━━━━━━━━━━━━━━━━━━━\u001b[0m\u001b[37m\u001b[0m \u001b[1m4s\u001b[0m 2ms/step - accuracy: 0.8822 - loss: 0.3398 - val_accuracy: 0.8770 - val_loss: 0.3999\n",
            "Epoch 82/100\n",
            "\u001b[1m1236/1236\u001b[0m \u001b[32m━━━━━━━━━━━━━━━━━━━━\u001b[0m\u001b[37m\u001b[0m \u001b[1m3s\u001b[0m 2ms/step - accuracy: 0.8966 - loss: 0.2942 - val_accuracy: 0.8706 - val_loss: 0.4057\n",
            "Epoch 83/100\n",
            "\u001b[1m1236/1236\u001b[0m \u001b[32m━━━━━━━━━━━━━━━━━━━━\u001b[0m\u001b[37m\u001b[0m \u001b[1m3s\u001b[0m 3ms/step - accuracy: 0.9026 - loss: 0.3049 - val_accuracy: 0.8997 - val_loss: 0.3539\n",
            "Epoch 84/100\n",
            "\u001b[1m1236/1236\u001b[0m \u001b[32m━━━━━━━━━━━━━━━━━━━━\u001b[0m\u001b[37m\u001b[0m \u001b[1m4s\u001b[0m 2ms/step - accuracy: 0.9017 - loss: 0.3033 - val_accuracy: 0.8803 - val_loss: 0.3805\n",
            "Epoch 85/100\n",
            "\u001b[1m1236/1236\u001b[0m \u001b[32m━━━━━━━━━━━━━━━━━━━━\u001b[0m\u001b[37m\u001b[0m \u001b[1m3s\u001b[0m 2ms/step - accuracy: 0.8972 - loss: 0.2971 - val_accuracy: 0.8964 - val_loss: 0.3080\n",
            "Epoch 86/100\n",
            "\u001b[1m1236/1236\u001b[0m \u001b[32m━━━━━━━━━━━━━━━━━━━━\u001b[0m\u001b[37m\u001b[0m \u001b[1m2s\u001b[0m 2ms/step - accuracy: 0.8793 - loss: 0.3358 - val_accuracy: 0.8641 - val_loss: 0.3531\n",
            "Epoch 87/100\n",
            "\u001b[1m1236/1236\u001b[0m \u001b[32m━━━━━━━━━━━━━━━━━━━━\u001b[0m\u001b[37m\u001b[0m \u001b[1m3s\u001b[0m 2ms/step - accuracy: 0.8986 - loss: 0.2969 - val_accuracy: 0.8576 - val_loss: 0.3666\n",
            "Epoch 88/100\n",
            "\u001b[1m1236/1236\u001b[0m \u001b[32m━━━━━━━━━━━━━━━━━━━━\u001b[0m\u001b[37m\u001b[0m \u001b[1m4s\u001b[0m 2ms/step - accuracy: 0.9080 - loss: 0.2782 - val_accuracy: 0.8867 - val_loss: 0.3449\n",
            "Epoch 89/100\n",
            "\u001b[1m1236/1236\u001b[0m \u001b[32m━━━━━━━━━━━━━━━━━━━━\u001b[0m\u001b[37m\u001b[0m \u001b[1m3s\u001b[0m 2ms/step - accuracy: 0.8974 - loss: 0.3065 - val_accuracy: 0.8900 - val_loss: 0.3365\n",
            "Epoch 90/100\n",
            "\u001b[1m1236/1236\u001b[0m \u001b[32m━━━━━━━━━━━━━━━━━━━━\u001b[0m\u001b[37m\u001b[0m \u001b[1m5s\u001b[0m 2ms/step - accuracy: 0.9170 - loss: 0.2730 - val_accuracy: 0.8770 - val_loss: 0.3273\n",
            "Epoch 91/100\n",
            "\u001b[1m1236/1236\u001b[0m \u001b[32m━━━━━━━━━━━━━━━━━━━━\u001b[0m\u001b[37m\u001b[0m \u001b[1m5s\u001b[0m 2ms/step - accuracy: 0.8956 - loss: 0.2841 - val_accuracy: 0.8641 - val_loss: 0.3402\n",
            "Epoch 92/100\n",
            "\u001b[1m1236/1236\u001b[0m \u001b[32m━━━━━━━━━━━━━━━━━━━━\u001b[0m\u001b[37m\u001b[0m \u001b[1m3s\u001b[0m 2ms/step - accuracy: 0.9228 - loss: 0.2589 - val_accuracy: 0.8835 - val_loss: 0.3530\n",
            "Epoch 93/100\n",
            "\u001b[1m1236/1236\u001b[0m \u001b[32m━━━━━━━━━━━━━━━━━━━━\u001b[0m\u001b[37m\u001b[0m \u001b[1m6s\u001b[0m 3ms/step - accuracy: 0.9151 - loss: 0.2739 - val_accuracy: 0.9029 - val_loss: 0.3118\n",
            "Epoch 94/100\n",
            "\u001b[1m1236/1236\u001b[0m \u001b[32m━━━━━━━━━━━━━━━━━━━━\u001b[0m\u001b[37m\u001b[0m \u001b[1m4s\u001b[0m 3ms/step - accuracy: 0.9149 - loss: 0.2733 - val_accuracy: 0.9256 - val_loss: 0.2664\n",
            "Epoch 95/100\n",
            "\u001b[1m1236/1236\u001b[0m \u001b[32m━━━━━━━━━━━━━━━━━━━━\u001b[0m\u001b[37m\u001b[0m \u001b[1m3s\u001b[0m 2ms/step - accuracy: 0.9208 - loss: 0.2552 - val_accuracy: 0.9223 - val_loss: 0.3011\n",
            "Epoch 96/100\n",
            "\u001b[1m1236/1236\u001b[0m \u001b[32m━━━━━━━━━━━━━━━━━━━━\u001b[0m\u001b[37m\u001b[0m \u001b[1m5s\u001b[0m 2ms/step - accuracy: 0.9308 - loss: 0.2327 - val_accuracy: 0.8803 - val_loss: 0.3543\n",
            "Epoch 97/100\n",
            "\u001b[1m1236/1236\u001b[0m \u001b[32m━━━━━━━━━━━━━━━━━━━━\u001b[0m\u001b[37m\u001b[0m \u001b[1m6s\u001b[0m 3ms/step - accuracy: 0.9356 - loss: 0.2271 - val_accuracy: 0.8835 - val_loss: 0.3380\n",
            "Epoch 98/100\n",
            "\u001b[1m1236/1236\u001b[0m \u001b[32m━━━━━━━━━━━━━━━━━━━━\u001b[0m\u001b[37m\u001b[0m \u001b[1m3s\u001b[0m 2ms/step - accuracy: 0.8907 - loss: 0.2925 - val_accuracy: 0.9159 - val_loss: 0.2959\n",
            "Epoch 99/100\n",
            "\u001b[1m1236/1236\u001b[0m \u001b[32m━━━━━━━━━━━━━━━━━━━━\u001b[0m\u001b[37m\u001b[0m \u001b[1m5s\u001b[0m 2ms/step - accuracy: 0.9028 - loss: 0.2450 - val_accuracy: 0.8835 - val_loss: 0.2952\n",
            "Epoch 100/100\n",
            "\u001b[1m1236/1236\u001b[0m \u001b[32m━━━━━━━━━━━━━━━━━━━━\u001b[0m\u001b[37m\u001b[0m \u001b[1m3s\u001b[0m 3ms/step - accuracy: 0.9314 - loss: 0.2301 - val_accuracy: 0.8770 - val_loss: 0.3488\n"
          ]
        }
      ],
      "source": [
        "hist = model.fit(x = X_train,\n",
        "                 y = y_train,\n",
        "                 epochs = 100,\n",
        "                 batch_size = 1,\n",
        "                 validation_data = (X_test, y_test))"
      ]
    },
    {
      "cell_type": "code",
      "execution_count": 26,
      "metadata": {
        "colab": {
          "base_uri": "https://localhost:8080/",
          "height": 490
        },
        "id": "IyHimPKI-JIZ",
        "outputId": "8a35a466-e68e-4d90-d692-85af66e22a1b"
      },
      "outputs": [
        {
          "data": {
            "image/png": "[encoded data removed]",
            "text/plain": [
              "<Figure size 1000x500 with 2 Axes>"
            ]
          },
          "metadata": {},
          "output_type": "display_data"
        }
      ],
      "source": [
        "import matplotlib.pyplot as plt\n",
        "import seaborn as sns\n",
        "# two subplots: one of accuracy vs. epochs, one of loss vs. epochs\n",
        "# in each subplot, show training in one color and test in another color\n",
        "\n",
        "trainAcc  = hist.history['accuracy'];\n",
        "testAcc   = hist.history['val_accuracy'];\n",
        "trainLoss = hist.history['loss'];\n",
        "testLoss  = hist.history['val_loss'];\n",
        "nEpochs   = len(trainAcc);\n",
        "\n",
        "plt.figure(figsize = (10,5));\n",
        "sns.set_context(\"poster\", font_scale = .65, rc={\"grid.linewidth\": 0.6})\n",
        "\n",
        "# Accuracy Plot\n",
        "plt.subplot(1,2,1);\n",
        "\n",
        "sns.lineplot(x     = np.arange(1,nEpochs+1),\n",
        "             y     = trainAcc,\n",
        "             label = 'Training accuracy',\n",
        "             color = 'green');\n",
        "\n",
        "sns.lineplot(x     = np.arange(1,nEpochs+1),\n",
        "             y     = testAcc,\n",
        "             label = 'Test accuracy',\n",
        "             color = 'red');\n",
        "\n",
        "plt.xlabel('Epochs');\n",
        "plt.ylabel('Accuracy');\n",
        "\n",
        "# Loss Plot\n",
        "plt.subplot(1,2,2)\n",
        "\n",
        "sns.lineplot(x     = np.arange(1,nEpochs+1),\n",
        "             y     = trainLoss,\n",
        "             label = 'Training loss',\n",
        "             color = 'green');\n",
        "\n",
        "sns.lineplot(x     = np.arange(1,nEpochs+1),\n",
        "             y     = testLoss,\n",
        "             label = 'Test loss',\n",
        "             color = 'red');\n",
        "\n",
        "plt.yscale('log');\n",
        "plt.xlabel('Epochs');\n",
        "plt.ylabel('Loss');\n",
        "plt.tight_layout();\n"
      ]
    },
    {
      "cell_type": "code",
      "execution_count": null,
      "metadata": {},
      "outputs": [],
      "source": [
        "\n",
        "import seaborn as sns\n",
        "import matplotlib.pyplot as plt\n",
        "from sklearn.metrics import confusion_matrix\n",
        "y_pred = model.predict(X_test)  # Obtém as previsões da rede neural\n",
        "y_pred_classes = y_pred.argmax(axis=1)  # Converte as previsões de one-hot para classes\n",
        "y_test_classes = y_test.argmax(axis=1)\n",
        "y_pred_labels = label_encoder.inverse_transform(y_pred_classes)\n",
        "y_test_labels = label_encoder.inverse_transform(y_test_classes)\n",
        "\n",
        "cm = confusion_matrix(y_test_labels, y_pred_labels)\n",
        "labels = label_encoder.classes_\n",
        "# Plotar a matriz de confusão\n",
        "plt.figure(figsize=(10,7))\n",
        "sns.heatmap(cm, annot=True, fmt=\"d\", cmap=\"Blues\", cbar=False, xticklabels=labels, yticklabels=labels)\n",
        "plt.ylabel('True Label')\n",
        "plt.xlabel('Predicted Label')\n",
        "plt.title('Confusion Matrix')\n",
        "plt.show()\n",
        "plt.savefig('confusion.png')"
      ]
    },
    {
      "cell_type": "code",
      "execution_count": null,
      "metadata": {
        "id": "u62hE5rjHVzY"
      },
      "outputs": [],
      "source": [
        "# Prevendo para Resultados\n",
        "y, sr = librosa.load(\"E.wav\", sr=None)\n",
        "cqt = librosa.cqt(y, sr=sr, n_bins=84, bins_per_octave=12)\n",
        "\n",
        "# Converter a saída para dB\n",
        "cqt_db = librosa.amplitude_to_db(np.abs(cqt), ref=np.max)\n",
        "\n",
        "# Extrair as 12 maiores frequências com base no dB\n",
        "# Obter as frequências correspondentes às bins do CQT\n",
        "frequencies = librosa.cqt_frequencies(n_bins=84, fmin=librosa.note_to_hz('C2'))\n",
        "\n",
        "# Encontrar os índices das 12 maiores frequências\n",
        "top_indices = np.argsort(np.mean(cqt_db, axis=1))[::-1][:84]\n",
        "\n",
        "# Frequências e valores de dB correspondentes\n",
        "top_frequencies = frequencies[top_indices]\n",
        "top_db_values = np.mean(cqt_db[top_indices], axis=1)\n",
        "\n",
        "# Vamos converter as frequencias de guitarra para contra-baixo\n",
        "top_frequencies = [frequency/2 for frequency in top_frequencies]\n",
        "top_frequencies = np.array(top_frequencies).reshape(7,12)\n",
        "\n",
        "results = [model.predict(top_frequency.reshape(1,-1)) for top_frequency in top_frequencies]\n",
        "\n"
      ]
    },
    {
      "cell_type": "code",
      "execution_count": null,
      "metadata": {},
      "outputs": [],
      "source": [
        "notes_predicted = []\n",
        "for result in results:\n",
        "  predicted_index = np.argmax(result[0])  # Retorna o índice da classe com maior probabilidade\n",
        "  predicted_label = label_encoder.inverse_transform([predicted_index])\n",
        "  notes_predicted.append(predicted_label[0])\n",
        "print(notes_predicted)"
      ]
    }
  ],
  "metadata": {
    "colab": {
      "provenance": []
    },
    "kernelspec": {
      "display_name": "Python 3",
      "name": "python3"
    },
    "language_info": {
      "name": "python"
    }
  },
  "nbformat": 4,
  "nbformat_minor": 0
}
